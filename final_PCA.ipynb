{
 "cells": [
  {
   "cell_type": "markdown",
   "metadata": {},
   "source": [
    "# PCA (Implementation)"
   ]
  },
  {
   "cell_type": "code",
   "execution_count": 1,
   "metadata": {
    "collapsed": true
   },
   "outputs": [],
   "source": [
    "import numpy as np\n",
    "import pandas as pd\n",
    "from matplotlib import pyplot as plt\n",
    "import itertools"
   ]
  },
  {
   "cell_type": "code",
   "execution_count": 26,
   "metadata": {},
   "outputs": [
    {
     "name": "stdout",
     "output_type": "stream",
     "text": [
      "[[ 12.74406005   1.01869447]\n",
      " [ 12.35867387   1.00450016]\n",
      " [ 12.22319623   1.01045413]\n",
      " ..., \n",
      " [ 11.38404598   0.99537343]\n",
      " [ 12.2756146    1.02169101]\n",
      " [ 12.07077924   0.98700173]]\n",
      "(2394, 2)\n"
     ]
    }
   ],
   "source": [
    "data = pd.read_excel('C:\\\\Users\\\\Galia\\\\Desktop\\\\labs\\\\RETURNS.xlsx')\n",
    "X = data[['agn']]\n",
    "XX = X.as_matrix()\n",
    "XX = np.hstack(((12*XX[:, 0]*XX[:, 0] + np.random.randn(XX.shape[0])*0.5).reshape(2394, 1), XX))\n",
    "print(XX)\n",
    "print(XX.shape)"
   ]
  },
  {
   "cell_type": "code",
   "execution_count": 20,
   "metadata": {
    "collapsed": true
   },
   "outputs": [],
   "source": [
    "def PCA(X, n_eigen_val = None, accur_decim = 2, explained_variance = None, restore = False):\n",
    "#1\n",
    "#check the input data type\n",
    "    if type(X).__name__ != 'ndarray':\n",
    "        X = X.as_matrix()\n",
    "    n, d = X.shape\n",
    "\n",
    "#2\n",
    "#normalize data\n",
    "\n",
    "    norm_params = np.zeros((2, d))\n",
    "    norm_params[0] = X.mean(axis = 0)\n",
    "    #unbiased estimator of the variance\n",
    "    norm_params[1] = X.std(axis = 0, ddof = 1)\n",
    "    norm_X = (X - norm_params[0])/norm_params[1]\n",
    "#3\n",
    "#count covariance matrix\n",
    "\n",
    "    cov = np.dot(norm_X.T, norm_X) / n\n",
    "#4\n",
    "#count the eigen values and eigen vectors\n",
    "\n",
    "    e_val, e_vect = np.linalg.eig(cov)\n",
    "    #in general, eigenvalues could be complex numbers\n",
    "    #get the absolute values for comparing with the real numbers\n",
    "    e_val = np.absolute(e_val)\n",
    "    #sort in descending order eigenvalues and \n",
    "    #write the corresponding position in ind\n",
    "    ind = np.argsort(-e_val)\n",
    "    #the same for eigenvectors\n",
    "    e_vect = e_vect[:, ind]\n",
    "    #convert every vector into float (complex numbers also converted - the aim)\n",
    "    e_vect = e_vect.astype(float)\n",
    "#5\n",
    "#Chose best choise according to proportion of variance\n",
    "#and number of eigenvalues\n",
    "\n",
    "    propor_var = e_val / np.sum(e_val)\n",
    "    #comulative proportion of variance\n",
    "    com_prop_var = np.cumsum(propor_var * 100)\n",
    "    int_com_prop = com_prop_var\n",
    "\n",
    "    try:\n",
    "#6\n",
    "#check the consumer`s input\n",
    "    #if no parameters were inputed\n",
    "        if (n_eigen_val == None and explained_variance == None):\n",
    "            ind_com = min([i for i in range(len(int_com_prop)) if int_com_prop[i] >= 90.])\n",
    "\n",
    "            e_vect_reduced = e_vect[:, :(ind_com + 1)]\n",
    "            com_prop_reduced = 90.\n",
    "            print(\"No amount of components were chosen. The output was counted for 90% explained variance\")\n",
    "\n",
    "    #if explained variance was given\n",
    "        if (n_eigen_val == None and explained_variance != None):\n",
    "    #check if explained variance was given less than actual was\n",
    "            if explained_variance < np.min(int_com_prop):\n",
    "                print(\"Explained variance is bigger than the input value. There was used the smallest one\")\n",
    "\n",
    "            ind_com = min([i for i in range(len(int_com_prop)) if int_com_prop[i] >= explained_variance])\n",
    "            e_vect_reduced = e_vect[:, :(ind_com + 1)]\n",
    "            com_prop_reduced = com_prop_var[ind_com]\n",
    "\n",
    "    #if number of components were given\n",
    "        if (n_eigen_val != None and explained_variance == None):\n",
    "            e_vect_reduced = e_vect[:, : n_eigen_val]\n",
    "            com_prop_reduced = com_prop_var[n_eigen_val-1]\n",
    "\n",
    "    #if everythig was given\n",
    "        if (n_eigen_val != None and explained_variance != None):\n",
    "            l = [i for i in range(len(int_com_prop)) if int_com_prop[i] == explained_variance]\n",
    "            #if explained variance is in range of actual variance\n",
    "            if l != []:\n",
    "                e_vect_reduced = e_vect[:, : n_eigen_val]\n",
    "                com_prop_reduced = com_prop_var[n_eigen_val-1]\n",
    "\n",
    "            else:\n",
    "                print(\"The principal component`s amount is not respective to explained variance. \\n The proportion of explained variance was used.\")\n",
    "                ind_com = min([i for i in range(len(int_com_prop)) if int_com_prop[i] >= explained_variance])\n",
    "                e_vect_reduced = e_vect[:, :(ind_com + 1)]\n",
    "                com_prop_reduced = explained_variance\n",
    "    except:\n",
    "        print(\"Not suitable parameters\")\n",
    "    else:\n",
    "        X_new = np.dot(norm_X, e_vect_reduced)\n",
    "        if restore == False:\n",
    "            return X_new, e_vect_reduced, com_prop_reduced\n",
    "        else:\n",
    "            X_rest = np.dot(X_new, e_vect_reduced.T)\n",
    "            X_rest = (X_rest * norm_params[1]) + norm_params[0]\n",
    "            return X_rest, e_vect_reduced, com_prop_reduced"
   ]
  },
  {
   "cell_type": "markdown",
   "metadata": {},
   "source": [
    "# Visualisation"
   ]
  },
  {
   "cell_type": "markdown",
   "metadata": {},
   "source": [
    "## My data"
   ]
  },
  {
   "cell_type": "code",
   "execution_count": 27,
   "metadata": {},
   "outputs": [
    {
     "name": "stdout",
     "output_type": "stream",
     "text": [
      "18.4631947645\n"
     ]
    }
   ],
   "source": [
    "restore_X = PCA(XX, n_eigen_val = 1, restore=True)\n",
    "rest_X = restore_X[0]\n",
    "print(restore_X[2])"
   ]
  },
  {
   "cell_type": "code",
   "execution_count": 28,
   "metadata": {},
   "outputs": [
    {
     "data": {
      "image/png": "[encoded data removed]",
      "text/plain": [
       "<matplotlib.figure.Figure at 0x226e47b7e48>"
      ]
     },
     "metadata": {},
     "output_type": "display_data"
    }
   ],
   "source": [
    "plt.figure()\n",
    "plt.scatter(XX[:, 1], XX[:, 0], color='c', label='Initial', alpha = 0.5)\n",
    "plt.scatter(rest_X[:, 1], rest_X[:, 0], color='y', label='Restored', s = 12)\n",
    "plt.legend(loc='best')\n",
    "plt.xlabel('x')\n",
    "plt.ylabel('y')\n",
    "plt.show()"
   ]
  },
  {
   "cell_type": "markdown",
   "metadata": {},
   "source": [
    "## Given data  "
   ]
  },
  {
   "cell_type": "code",
   "execution_count": 9,
   "metadata": {
    "collapsed": true
   },
   "outputs": [],
   "source": [
    "points = 10\n",
    "X = np.zeros((points,2))\n",
    "x = np.arange(1,points+1)\n",
    "y = 4 * x *x + np.random.randn(points)*2\n",
    "X[:,1] = y\n",
    "X[:,0] = x"
   ]
  },
  {
   "cell_type": "code",
   "execution_count": 12,
   "metadata": {
    "collapsed": true
   },
   "outputs": [],
   "source": [
    "n_X = PCA(X, n_eigen_val=1, restore=True)[0]"
   ]
  },
  {
   "cell_type": "code",
   "execution_count": 13,
   "metadata": {},
   "outputs": [
    {
     "data": {
      "image/png": "[encoded data removed]",
      "text/plain": [
       "<matplotlib.figure.Figure at 0x226e3d48ef0>"
      ]
     },
     "metadata": {},
     "output_type": "display_data"
    }
   ],
   "source": [
    "plt.figure()\n",
    "plt.scatter(X[:, 0], X[:, 1], color='c', label='Initial', alpha = 0.5)\n",
    "plt.scatter(n_X[:, 0], n_X[:, 1], color='red', label='Restored', s = 5)\n",
    "plt.legend(loc='best')\n",
    "plt.xlabel('x')\n",
    "plt.ylabel('y')\n",
    "plt.show()"
   ]
  },
  {
   "cell_type": "code",
   "execution_count": 25,
   "metadata": {},
   "outputs": [
    {
     "name": "stderr",
     "output_type": "stream",
     "text": [
      "C:\\ProgramData\\Anaconda3\\lib\\site-packages\\ipykernel_launcher.py:33: ComplexWarning: Casting complex values to real discards the imaginary part\n"
     ]
    },
    {
     "name": "stdout",
     "output_type": "stream",
     "text": [
      "1\n",
      "Explained variance is bigger than the input value. There was used the smallest one\n",
      "78.7274578579\n"
     ]
    }
   ],
   "source": [
    "from PIL import Image\n",
    "# read image \n",
    "img = Image.open('C:\\\\Users\\\\Galia\\\\Dropbox\\\\DataRoot University\\\\5mod\\\\PCA\\\\pct.jpg')\n",
    "# black & white transformation\n",
    "img = img.convert('L')\n",
    "\n",
    "# create numpy array\n",
    "img_X = (np.copy(np.asarray(img))).astype(float)\n",
    "\n",
    "# dimension restoring\n",
    "X_restored_img = PCA(img_X, explained_variance= 50, restore=True)\n",
    "\n",
    "# create from restored array\n",
    "restored_img = Image.fromarray(X_restored_img[0].astype(int))\n",
    "print(X_restored_img[2])\n",
    "\n",
    "img.show()\n",
    "restored_img.show()"
   ]
  }
 ],
 "metadata": {
  "kernelspec": {
   "display_name": "Python 3",
   "language": "python",
   "name": "python3"
  },
  "language_info": {
   "codemirror_mode": {
    "name": "ipython",
    "version": 3
   },
   "file_extension": ".py",
   "mimetype": "text/x-python",
   "name": "python",
   "nbconvert_exporter": "python",
   "pygments_lexer": "ipython3",
   "version": "3.6.2"
  }
 },
 "nbformat": 4,
 "nbformat_minor": 2
}
